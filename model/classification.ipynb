{
 "cells": [
  {
   "cell_type": "markdown",
   "metadata": {},
   "source": [
    "# TextClassification"
   ]
  },
  {
   "cell_type": "code",
   "execution_count": 1,
   "metadata": {},
   "outputs": [],
   "source": [
    "from transformers import AutoTokenizer, AutoModelForSequenceClassification"
   ]
  },
  {
   "cell_type": "code",
   "execution_count": 2,
   "metadata": {},
   "outputs": [
    {
     "data": {
      "text/html": [
       "<div>\n",
       "<style scoped>\n",
       "    .dataframe tbody tr th:only-of-type {\n",
       "        vertical-align: middle;\n",
       "    }\n",
       "\n",
       "    .dataframe tbody tr th {\n",
       "        vertical-align: top;\n",
       "    }\n",
       "\n",
       "    .dataframe thead th {\n",
       "        text-align: right;\n",
       "    }\n",
       "</style>\n",
       "<table border=\"1\" class=\"dataframe\">\n",
       "  <thead>\n",
       "    <tr style=\"text-align: right;\">\n",
       "      <th></th>\n",
       "      <th>label</th>\n",
       "      <th>review</th>\n",
       "    </tr>\n",
       "  </thead>\n",
       "  <tbody>\n",
       "    <tr>\n",
       "      <th>0</th>\n",
       "      <td>1</td>\n",
       "      <td>很快，好吃，味道足，量大</td>\n",
       "    </tr>\n",
       "    <tr>\n",
       "      <th>1</th>\n",
       "      <td>1</td>\n",
       "      <td>没有送水没有送水没有送水</td>\n",
       "    </tr>\n",
       "    <tr>\n",
       "      <th>2</th>\n",
       "      <td>1</td>\n",
       "      <td>非常快，态度好。</td>\n",
       "    </tr>\n",
       "    <tr>\n",
       "      <th>3</th>\n",
       "      <td>1</td>\n",
       "      <td>方便，快捷，味道可口，快递给力</td>\n",
       "    </tr>\n",
       "    <tr>\n",
       "      <th>4</th>\n",
       "      <td>1</td>\n",
       "      <td>菜味道很棒！送餐很及时！</td>\n",
       "    </tr>\n",
       "    <tr>\n",
       "      <th>...</th>\n",
       "      <td>...</td>\n",
       "      <td>...</td>\n",
       "    </tr>\n",
       "    <tr>\n",
       "      <th>11982</th>\n",
       "      <td>0</td>\n",
       "      <td>以前几乎天天吃，现在调料什么都不放，</td>\n",
       "    </tr>\n",
       "    <tr>\n",
       "      <th>11983</th>\n",
       "      <td>0</td>\n",
       "      <td>昨天订凉皮两份，什么调料都没有放，就放了点麻油，特别难吃，丢了一份，再也不想吃了</td>\n",
       "    </tr>\n",
       "    <tr>\n",
       "      <th>11984</th>\n",
       "      <td>0</td>\n",
       "      <td>凉皮太辣,吃不下都</td>\n",
       "    </tr>\n",
       "    <tr>\n",
       "      <th>11985</th>\n",
       "      <td>0</td>\n",
       "      <td>本来迟到了还自己点！！！</td>\n",
       "    </tr>\n",
       "    <tr>\n",
       "      <th>11986</th>\n",
       "      <td>0</td>\n",
       "      <td>肉夹馍不错，羊肉泡馍酱肉包很一般。凉面没想象中好吃。送餐倒是很快。</td>\n",
       "    </tr>\n",
       "  </tbody>\n",
       "</table>\n",
       "<p>11987 rows × 2 columns</p>\n",
       "</div>"
      ],
      "text/plain": [
       "       label                                    review\n",
       "0          1                              很快，好吃，味道足，量大\n",
       "1          1                              没有送水没有送水没有送水\n",
       "2          1                                  非常快，态度好。\n",
       "3          1                           方便，快捷，味道可口，快递给力\n",
       "4          1                              菜味道很棒！送餐很及时！\n",
       "...      ...                                       ...\n",
       "11982      0                        以前几乎天天吃，现在调料什么都不放，\n",
       "11983      0  昨天订凉皮两份，什么调料都没有放，就放了点麻油，特别难吃，丢了一份，再也不想吃了\n",
       "11984      0                                 凉皮太辣,吃不下都\n",
       "11985      0                              本来迟到了还自己点！！！\n",
       "11986      0         肉夹馍不错，羊肉泡馍酱肉包很一般。凉面没想象中好吃。送餐倒是很快。\n",
       "\n",
       "[11987 rows x 2 columns]"
      ]
     },
     "execution_count": 2,
     "metadata": {},
     "output_type": "execute_result"
    }
   ],
   "source": [
    "import pandas as pd\n",
    "\n",
    "data = pd.read_csv('data/waimai_10k.csv')\n",
    "data = data.dropna()\n",
    "data"
   ]
  },
  {
   "cell_type": "markdown",
   "metadata": {},
   "source": [
    "## 创建Dataset"
   ]
  },
  {
   "cell_type": "code",
   "execution_count": 3,
   "metadata": {},
   "outputs": [],
   "source": [
    "from torch.utils.data import Dataset"
   ]
  },
  {
   "cell_type": "code",
   "execution_count": 4,
   "metadata": {},
   "outputs": [],
   "source": [
    "class MyDataset(Dataset):\n",
    "    \n",
    "    def __init__(self) -> None:\n",
    "        super().__init__()\n",
    "        self.data = pd.read_csv('data/waimai_10k.csv')\n",
    "        self.data = self.data.dropna()\n",
    "        \n",
    "    def __getitem__(self, index):\n",
    "        return self.data.iloc[index]['review'], self.data.iloc[index]['label']\n",
    "    \n",
    "    def __len__(self):\n",
    "        return len(self.data)"
   ]
  },
  {
   "cell_type": "code",
   "execution_count": 5,
   "metadata": {},
   "outputs": [
    {
     "name": "stdout",
     "output_type": "stream",
     "text": [
      "('很快，好吃，味道足，量大', 1)\n",
      "('没有送水没有送水没有送水', 1)\n",
      "('非常快，态度好。', 1)\n",
      "('方便，快捷，味道可口，快递给力', 1)\n",
      "('菜味道很棒！送餐很及时！', 1)\n"
     ]
    }
   ],
   "source": [
    "dataset = MyDataset()\n",
    "for i in range(5):\n",
    "    print(dataset[i])"
   ]
  },
  {
   "cell_type": "markdown",
   "metadata": {},
   "source": [
    "## 划分数据集"
   ]
  },
  {
   "cell_type": "code",
   "execution_count": 6,
   "metadata": {},
   "outputs": [],
   "source": [
    "from torch.utils.data import random_split\n",
    "\n",
    "trainset, validset = random_split(dataset, [0.9, 0.1])"
   ]
  },
  {
   "cell_type": "code",
   "execution_count": 7,
   "metadata": {},
   "outputs": [
    {
     "name": "stdout",
     "output_type": "stream",
     "text": [
      "('稻香村的点心自然不必多说了，就是好吃！外卖小哥服务也非常好～赞\\\\(≧▽≦)/！', 1)\n",
      "('没有按照要求,去掉cheese片', 0)\n",
      "('等了137分钟，也不知道是不是想让我吃晚饭，公司同事都在工作，就我在吃饭，老板看我的眼神都那样……', 0)\n",
      "('外卖比在店里吃差很多⋯⋯', 0)\n",
      "('加盟店吧，太难吃了，城里的魏家凉皮都超好吃，回龙观店是否可以学学再卖，不要毁了招牌', 0)\n",
      "('点了两瓶啤酒就送了一瓶', 0)\n",
      "('等了75分钟，我要的星冰乐都变成水了，还有一杯热的焦糖玛奇朵，都变常温了，还撒了好多，真是太次的一次外卖了', 0)\n",
      "('十一点多订的，等了半个小时打电话那边才确认订单，葱香牛肉焗饭偏咸', 0)\n",
      "('味道还好，就是送餐太慢了', 0)\n",
      "('好，味道不错，准时送达。', 1)\n"
     ]
    }
   ],
   "source": [
    "for i in range(10):\n",
    "    print(trainset[i])"
   ]
  },
  {
   "cell_type": "markdown",
   "metadata": {},
   "source": [
    "## Dataloader"
   ]
  },
  {
   "cell_type": "code",
   "execution_count": 8,
   "metadata": {},
   "outputs": [],
   "source": [
    "import torch\n",
    "from torch import nn as nn\n",
    "if torch.cuda.is_available():\n",
    "    device = torch.device(\"cuda\")"
   ]
  },
  {
   "cell_type": "code",
   "execution_count": 9,
   "metadata": {},
   "outputs": [],
   "source": [
    "tokenizer = AutoTokenizer.from_pretrained('rbt3')\n",
    "def collate_fn(batch):\n",
    "    texts, labels = [], []\n",
    "    for item in batch:\n",
    "        texts.append(item[0])\n",
    "        labels.append(item[1])\n",
    "    inputs = tokenizer(texts, max_length=128, padding='max_length', truncation=True, return_tensors='pt')\n",
    "    inputs['labels'] = torch.tensor(labels)\n",
    "    return inputs"
   ]
  },
  {
   "cell_type": "code",
   "execution_count": 10,
   "metadata": {},
   "outputs": [],
   "source": [
    "from torch.utils.data import DataLoader\n",
    "\n",
    "trainloader = DataLoader(trainset, batch_size=64, shuffle=True, collate_fn=collate_fn)\n",
    "validloader = DataLoader(validset, batch_size=8, shuffle=False, collate_fn=collate_fn)"
   ]
  },
  {
   "cell_type": "code",
   "execution_count": 11,
   "metadata": {},
   "outputs": [
    {
     "data": {
      "text/plain": [
       "{'input_ids': tensor([[ 101, 6820,  679,  ...,    0,    0,    0],\n",
       "        [ 101, 6887, 5831,  ...,    0,    0,    0],\n",
       "        [ 101,  676, 1282,  ...,    0,    0,    0],\n",
       "        ...,\n",
       "        [ 101, 4649, 6028,  ...,    0,    0,    0],\n",
       "        [ 101, 6631, 3198,  ...,    0,    0,    0],\n",
       "        [ 101, 2697, 6230,  ...,    0,    0,    0]], device='cuda:0'), 'token_type_ids': tensor([[0, 0, 0,  ..., 0, 0, 0],\n",
       "        [0, 0, 0,  ..., 0, 0, 0],\n",
       "        [0, 0, 0,  ..., 0, 0, 0],\n",
       "        ...,\n",
       "        [0, 0, 0,  ..., 0, 0, 0],\n",
       "        [0, 0, 0,  ..., 0, 0, 0],\n",
       "        [0, 0, 0,  ..., 0, 0, 0]], device='cuda:0'), 'attention_mask': tensor([[1, 1, 1,  ..., 0, 0, 0],\n",
       "        [1, 1, 1,  ..., 0, 0, 0],\n",
       "        [1, 1, 1,  ..., 0, 0, 0],\n",
       "        ...,\n",
       "        [1, 1, 1,  ..., 0, 0, 0],\n",
       "        [1, 1, 1,  ..., 0, 0, 0],\n",
       "        [1, 1, 1,  ..., 0, 0, 0]], device='cuda:0'), 'labels': tensor([1, 1, 0, 1, 0, 0, 0, 1, 0, 1, 1, 1, 0, 0, 1, 1, 0, 0, 0, 1, 0, 0, 0, 0,\n",
       "        0, 0, 1, 1, 1, 1, 0, 0, 1, 0, 0, 0, 0, 1, 0, 0, 1, 0, 0, 0, 0, 0, 0, 1,\n",
       "        0, 0, 0, 0, 0, 0, 0, 1, 1, 0, 0, 0, 1, 0, 0, 1], device='cuda:0')}"
      ]
     },
     "execution_count": 11,
     "metadata": {},
     "output_type": "execute_result"
    }
   ],
   "source": [
    "next(enumerate(trainloader))[1].to(device)"
   ]
  },
  {
   "cell_type": "markdown",
   "metadata": {},
   "source": [
    "## 创建模型以及优化器"
   ]
  },
  {
   "cell_type": "code",
   "execution_count": 12,
   "metadata": {},
   "outputs": [
    {
     "name": "stderr",
     "output_type": "stream",
     "text": [
      "Some weights of BertForSequenceClassification were not initialized from the model checkpoint at rbt3 and are newly initialized: ['classifier.bias', 'classifier.weight']\n",
      "You should probably TRAIN this model on a down-stream task to be able to use it for predictions and inference.\n"
     ]
    }
   ],
   "source": [
    "from torch.optim import Adam\n",
    "\n",
    "model = AutoModelForSequenceClassification.from_pretrained('rbt3', num_labels=2)\n",
    "\n",
    "if torch.cuda.is_available():\n",
    "        model.to(device)"
   ]
  },
  {
   "cell_type": "code",
   "execution_count": 13,
   "metadata": {},
   "outputs": [
    {
     "data": {
      "text/plain": [
       "<bound method Module.parameters of BertForSequenceClassification(\n",
       "  (bert): BertModel(\n",
       "    (embeddings): BertEmbeddings(\n",
       "      (word_embeddings): Embedding(21128, 768, padding_idx=0)\n",
       "      (position_embeddings): Embedding(512, 768)\n",
       "      (token_type_embeddings): Embedding(2, 768)\n",
       "      (LayerNorm): LayerNorm((768,), eps=1e-12, elementwise_affine=True)\n",
       "      (dropout): Dropout(p=0.1, inplace=False)\n",
       "    )\n",
       "    (encoder): BertEncoder(\n",
       "      (layer): ModuleList(\n",
       "        (0-2): 3 x BertLayer(\n",
       "          (attention): BertAttention(\n",
       "            (self): BertSdpaSelfAttention(\n",
       "              (query): Linear(in_features=768, out_features=768, bias=True)\n",
       "              (key): Linear(in_features=768, out_features=768, bias=True)\n",
       "              (value): Linear(in_features=768, out_features=768, bias=True)\n",
       "              (dropout): Dropout(p=0.1, inplace=False)\n",
       "            )\n",
       "            (output): BertSelfOutput(\n",
       "              (dense): Linear(in_features=768, out_features=768, bias=True)\n",
       "              (LayerNorm): LayerNorm((768,), eps=1e-12, elementwise_affine=True)\n",
       "              (dropout): Dropout(p=0.1, inplace=False)\n",
       "            )\n",
       "          )\n",
       "          (intermediate): BertIntermediate(\n",
       "            (dense): Linear(in_features=768, out_features=3072, bias=True)\n",
       "            (intermediate_act_fn): GELUActivation()\n",
       "          )\n",
       "          (output): BertOutput(\n",
       "            (dense): Linear(in_features=3072, out_features=768, bias=True)\n",
       "            (LayerNorm): LayerNorm((768,), eps=1e-12, elementwise_affine=True)\n",
       "            (dropout): Dropout(p=0.1, inplace=False)\n",
       "          )\n",
       "        )\n",
       "      )\n",
       "    )\n",
       "    (pooler): BertPooler(\n",
       "      (dense): Linear(in_features=768, out_features=768, bias=True)\n",
       "      (activation): Tanh()\n",
       "    )\n",
       "  )\n",
       "  (dropout): Dropout(p=0.1, inplace=False)\n",
       "  (classifier): Linear(in_features=768, out_features=2, bias=True)\n",
       ")>"
      ]
     },
     "execution_count": 13,
     "metadata": {},
     "output_type": "execute_result"
    }
   ],
   "source": [
    "model.parameters"
   ]
  },
  {
   "cell_type": "code",
   "execution_count": 14,
   "metadata": {},
   "outputs": [],
   "source": [
    "optimizer = Adam(model.parameters(), lr=1e-5)"
   ]
  },
  {
   "cell_type": "code",
   "execution_count": 15,
   "metadata": {},
   "outputs": [
    {
     "data": {
      "text/plain": [
       "SequenceClassifierOutput(loss=tensor(0.8512, device='cuda:0', grad_fn=<NllLossBackward0>), logits=tensor([[-0.0237,  0.5955],\n",
       "        [ 0.1887,  0.4876],\n",
       "        [ 0.1952,  0.6077],\n",
       "        [ 0.0017,  0.5220],\n",
       "        [-0.0675,  0.8001],\n",
       "        [-0.0060,  0.7063],\n",
       "        [-0.0817,  0.5675],\n",
       "        [ 0.0647,  0.7090],\n",
       "        [ 0.1245,  0.6121],\n",
       "        [-0.0211,  0.7914],\n",
       "        [ 0.0588,  0.6941],\n",
       "        [ 0.1397,  0.5572],\n",
       "        [ 0.0013,  0.6917],\n",
       "        [ 0.0799,  0.5033],\n",
       "        [ 0.0682,  0.5205],\n",
       "        [-0.0531,  0.5926],\n",
       "        [ 0.0517,  0.6686],\n",
       "        [ 0.0510,  0.4480],\n",
       "        [ 0.0737,  0.4716],\n",
       "        [ 0.0544,  0.6922],\n",
       "        [ 0.0240,  0.6625],\n",
       "        [ 0.0252,  0.6192],\n",
       "        [ 0.1094,  0.3869],\n",
       "        [ 0.0724,  0.6521],\n",
       "        [ 0.1440,  0.5652],\n",
       "        [ 0.1439,  0.3667],\n",
       "        [ 0.0897,  0.4054],\n",
       "        [ 0.1266,  0.5984],\n",
       "        [-0.0628,  0.7270],\n",
       "        [-0.0122,  0.6748],\n",
       "        [ 0.0522,  0.5962],\n",
       "        [-0.1596,  0.7330],\n",
       "        [-0.0181,  0.4840],\n",
       "        [-0.1132,  0.6972],\n",
       "        [-0.0422,  0.7486],\n",
       "        [ 0.1841,  0.5855],\n",
       "        [ 0.0231,  0.6061],\n",
       "        [ 0.0096,  0.3760],\n",
       "        [ 0.0339,  0.4659],\n",
       "        [ 0.0304,  0.7909],\n",
       "        [ 0.0494,  0.7119],\n",
       "        [-0.0930,  0.5591],\n",
       "        [ 0.0973,  0.3714],\n",
       "        [-0.0313,  0.4539],\n",
       "        [ 0.0217,  0.5998],\n",
       "        [ 0.0320,  0.6475],\n",
       "        [-0.0827,  0.7574],\n",
       "        [ 0.1115,  0.6187],\n",
       "        [ 0.1958,  0.4884],\n",
       "        [ 0.0654,  0.6079],\n",
       "        [ 0.0908,  0.6635],\n",
       "        [ 0.1270,  0.4962],\n",
       "        [ 0.2857,  0.6009],\n",
       "        [ 0.1442,  0.5151],\n",
       "        [ 0.0148,  0.7731],\n",
       "        [ 0.0660,  0.3968],\n",
       "        [ 0.2074,  0.5687],\n",
       "        [ 0.0025,  0.4645],\n",
       "        [ 0.0853,  0.5613],\n",
       "        [ 0.1159,  0.6200],\n",
       "        [-0.2244,  0.7376],\n",
       "        [-0.0248,  0.6022],\n",
       "        [ 0.0610,  0.6018],\n",
       "        [-0.0072,  0.7112]], device='cuda:0', grad_fn=<AddmmBackward0>), hidden_states=None, attentions=None)"
      ]
     },
     "execution_count": 15,
     "metadata": {},
     "output_type": "execute_result"
    }
   ],
   "source": [
    "model(**next(enumerate(trainloader))[1].to(device))"
   ]
  },
  {
   "cell_type": "markdown",
   "metadata": {},
   "source": [
    "## Model Training"
   ]
  },
  {
   "cell_type": "code",
   "execution_count": 16,
   "metadata": {},
   "outputs": [],
   "source": [
    "def train(epoch=1, log_step=100):\n",
    "    \n",
    "    global_step = 0\n",
    "    for ep in range(epoch):\n",
    "        model.train()\n",
    "        for batch in trainloader:\n",
    "            ##batch = {k: v.to(device) for k, v in batch.items()} ## 为什么不直接batch.to(device)\n",
    "            batch.to(device)\n",
    "            optimizer.zero_grad()\n",
    "            output = model(**batch)\n",
    "            output.loss.backward()\n",
    "            optimizer.step()\n",
    "            if global_step % log_step == 0:\n",
    "                print(f'epoch: {ep}, global_step: {global_step}, loss: {output.loss.item()}')\n",
    "            global_step += 1\n",
    "        acc = evaluate()\n",
    "        print(f'epoch: {ep}, acc: {acc}')\n",
    "            \n",
    "def evaluate():\n",
    "    model.eval()\n",
    "    acc_num = 0\n",
    "    with torch.inference_mode():\n",
    "        for batch in validloader:\n",
    "            ##batch = {k: v.to(device) for k, v in batch.items()}\n",
    "            batch.to(device)\n",
    "            output = model(**batch)\n",
    "            pred = output.logits.argmax(dim=1)\n",
    "            acc_num += (pred == batch['labels']).sum().item()\n",
    "    return acc_num / len(validset)"
   ]
  },
  {
   "cell_type": "code",
   "execution_count": 17,
   "metadata": {},
   "outputs": [
    {
     "name": "stdout",
     "output_type": "stream",
     "text": [
      "epoch: 0, global_step: 0, loss: 0.869054913520813\n",
      "epoch: 0, global_step: 100, loss: 0.3016502857208252\n",
      "epoch: 0, acc: 0.8839732888146912\n",
      "CPU times: user 39.8 s, sys: 1.79 s, total: 41.6 s\n",
      "Wall time: 39 s\n"
     ]
    }
   ],
   "source": [
    "%%time\n",
    "train()"
   ]
  },
  {
   "cell_type": "code",
   "execution_count": 18,
   "metadata": {},
   "outputs": [
    {
     "name": "stdout",
     "output_type": "stream",
     "text": [
      "input: 家人们快来吃！, prediction: positive\n"
     ]
    }
   ],
   "source": [
    "sen = '家人们快来吃！'\n",
    "id2_lable = {0: 'negative', 1: 'positive'}\n",
    "with torch.inference_mode():\n",
    "    inputs = tokenizer(sen, return_tensors='pt')\n",
    "    inputs.to(device)\n",
    "    output = model(**inputs)\n",
    "    pred = output.logits.argmax(dim=1)\n",
    "    print(f'input: {sen}, prediction: {id2_lable.get(pred.item())}')"
   ]
  },
  {
   "cell_type": "code",
   "execution_count": 22,
   "metadata": {},
   "outputs": [],
   "source": [
    "from transformers import pipeline\n",
    "\n",
    "model.config.id2label = id2_lable\n",
    "pipe = pipeline('text-classification', model=model, tokenizer=tokenizer, device=device)"
   ]
  },
  {
   "cell_type": "code",
   "execution_count": 23,
   "metadata": {},
   "outputs": [
    {
     "data": {
      "text/plain": [
       "[{'label': 'positive', 'score': 0.82942795753479}]"
      ]
     },
     "execution_count": 23,
     "metadata": {},
     "output_type": "execute_result"
    }
   ],
   "source": [
    "pipe(sen)"
   ]
  }
 ],
 "metadata": {
  "kernelspec": {
   "display_name": "CS224N",
   "language": "python",
   "name": "python3"
  },
  "language_info": {
   "codemirror_mode": {
    "name": "ipython",
    "version": 3
   },
   "file_extension": ".py",
   "mimetype": "text/x-python",
   "name": "python",
   "nbconvert_exporter": "python",
   "pygments_lexer": "ipython3",
   "version": "3.9.19"
  }
 },
 "nbformat": 4,
 "nbformat_minor": 2
}
